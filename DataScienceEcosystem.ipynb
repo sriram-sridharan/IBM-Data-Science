{
 "cells": [
  {
   "cell_type": "markdown",
   "id": "434a3e6a-ce16-4703-aacc-876af28f5fa9",
   "metadata": {},
   "source": [
    "# Data Science Tools and Ecosystem"
   ]
  },
  {
   "cell_type": "markdown",
   "id": "4f3907f0-416c-401f-b219-b38ad314006e",
   "metadata": {},
   "source": [
    "In this notebook, Data Science Tools and Ecosystem are summarized."
   ]
  },
  {
   "cell_type": "markdown",
   "id": "f639d2b2-aa67-45dd-a3c9-9dae1651063e",
   "metadata": {},
   "source": [
    "Objectives:\n",
    "* List popular languages used by data scientists\n",
    "* List popular libraries used by data scientists\n",
    "* List popular tools used by data scientists"
   ]
  },
  {
   "cell_type": "markdown",
   "id": "df001b20-53e2-4b7c-9f5a-99d53a19ae85",
   "metadata": {},
   "source": [
    "Some of the popular languages that Data Scientists use are:\n",
    "1. R\n",
    "2. Python\n",
    "3. Julia"
   ]
  },
  {
   "cell_type": "markdown",
   "id": "d169bad4-7c9b-4db0-ae34-57c9a70e3ffc",
   "metadata": {},
   "source": [
    "Some of the commonly used libraries used by Data Scientists include:\n",
    "1. ggplot\n",
    "2. pandas\n",
    "3. scikit-learn"
   ]
  },
  {
   "cell_type": "markdown",
   "id": "deef1200-2db0-4048-946e-5df3fb49bb70",
   "metadata": {},
   "source": [
    "|Data Science Tools|\n",
    "|---|\n",
    "|VS Code|\n",
    "|git|\n",
    "|Atom|"
   ]
  },
  {
   "cell_type": "markdown",
   "id": "863f928b-2a15-4927-ae99-7cfb233ac1b2",
   "metadata": {},
   "source": [
    "### Below are a few examples of evaluating arithmetic expressions in Python."
   ]
  },
  {
   "cell_type": "code",
   "execution_count": 3,
   "id": "3607314c-dd01-406b-a278-b848eac7bbf2",
   "metadata": {},
   "outputs": [
    {
     "data": {
      "text/plain": [
       "17"
      ]
     },
     "execution_count": 3,
     "metadata": {},
     "output_type": "execute_result"
    }
   ],
   "source": [
    "#This a simple arithmetic expression to mutiply then add integers\n",
    "(3*4)+5"
   ]
  },
  {
   "cell_type": "code",
   "execution_count": 6,
   "id": "4c0b7119-7e64-4061-b541-ba84bd0c2c64",
   "metadata": {},
   "outputs": [
    {
     "data": {
      "text/plain": [
       "3.3333333333333335"
      ]
     },
     "execution_count": 6,
     "metadata": {},
     "output_type": "execute_result"
    }
   ],
   "source": [
    "# This will convert 200 minutes to hours by diving by 60\n",
    "200/60"
   ]
  },
  {
   "cell_type": "markdown",
   "id": "660360fd-e7d3-4d33-b8c6-b1e72127f7c6",
   "metadata": {},
   "source": [
    "## Author\n",
    "Sriram Sridharan"
   ]
  },
  {
   "cell_type": "code",
   "execution_count": null,
   "id": "3f64d7bf-d836-4159-8745-bb1089fa4d35",
   "metadata": {},
   "outputs": [],
   "source": []
  }
 ],
 "metadata": {
  "kernelspec": {
   "display_name": "Python 3 (ipykernel)",
   "language": "python",
   "name": "python3"
  },
  "language_info": {
   "codemirror_mode": {
    "name": "ipython",
    "version": 3
   },
   "file_extension": ".py",
   "mimetype": "text/x-python",
   "name": "python",
   "nbconvert_exporter": "python",
   "pygments_lexer": "ipython3",
   "version": "3.11.9"
  }
 },
 "nbformat": 4,
 "nbformat_minor": 5
}
